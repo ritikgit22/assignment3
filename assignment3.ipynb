{
  "nbformat": 4,
  "nbformat_minor": 0,
  "metadata": {
    "colab": {
      "provenance": []
    },
    "kernelspec": {
      "name": "python3",
      "display_name": "Python 3"
    },
    "language_info": {
      "name": "python"
    }
  },
  "cells": [
    {
      "cell_type": "markdown",
      "source": [
        "Q1 - Write a code to reverse a string."
      ],
      "metadata": {
        "id": "7LemDJECMWHJ"
      }
    },
    {
      "cell_type": "code",
      "source": [
        "def reverse_string(string):\n",
        "  \"\"\"Reverses a given string.\n",
        "\n",
        "  Args:\n",
        "    string: The string to be reversed.\n",
        "\n",
        "  Returns:\n",
        "    The reversed string.\n",
        "  \"\"\"\n",
        "\n",
        "  reversed_string = \"\"\n",
        "  for char in string:\n",
        "    reversed_string = char + reversed_string\n",
        "  return reversed_string\n",
        "\n",
        "# Example usage:\n",
        "original_string = \"Hello, World!\"\n",
        "reversed_string = reverse_string(original_string)\n",
        "print(reversed_string)"
      ],
      "metadata": {
        "colab": {
          "base_uri": "https://localhost:8080/"
        },
        "id": "g5tW9_LvMe-r",
        "outputId": "93309326-b44b-4e75-d915-f43dcb4b7923"
      },
      "execution_count": null,
      "outputs": [
        {
          "output_type": "stream",
          "name": "stdout",
          "text": [
            "!dlroW ,olleH\n"
          ]
        }
      ]
    },
    {
      "cell_type": "markdown",
      "source": [
        "Q2 - Write a code to count the number of vowels in a string."
      ],
      "metadata": {
        "id": "f23_xnQ7M_7v"
      }
    },
    {
      "cell_type": "code",
      "source": [
        "def count_vowels(string):\n",
        "  \"\"\"Counts the number of vowels in a given string.\n",
        "\n",
        "  Args:\n",
        "    string: The string to be analyzed.\n",
        "\n",
        "  Returns:\n",
        "    The count of vowels in the string.\n",
        "  \"\"\"\n",
        "\n",
        "  vowels = \"aeiouAEIOU\"\n",
        "  count = 0\n",
        "\n",
        "  for char in string:\n",
        "    if char in vowels:\n",
        "      count += 1\n",
        "\n",
        "  return count\n",
        "\n",
        "# Example usage:\n",
        "original_string = \"Hello, World!\"\n",
        "vowel_count = count_vowels(original_string)\n",
        "print(vowel_count)"
      ],
      "metadata": {
        "colab": {
          "base_uri": "https://localhost:8080/"
        },
        "id": "NTrCHASVNJxE",
        "outputId": "6d9b5f1b-a32b-4ffd-8f18-82f395a8a74c"
      },
      "execution_count": null,
      "outputs": [
        {
          "output_type": "stream",
          "name": "stdout",
          "text": [
            "3\n"
          ]
        }
      ]
    },
    {
      "cell_type": "markdown",
      "source": [
        "Q3 - Write a code to check if a given string is a palindrome or not."
      ],
      "metadata": {
        "id": "_pL06-koNRny"
      }
    },
    {
      "cell_type": "code",
      "source": [
        "def is_palindrome(string):\n",
        "  \"\"\"Checks if a given string is a palindrome.\n",
        "\n",
        "  Args:\n",
        "    string: The string to be checked.\n",
        "\n",
        "  Returns:\n",
        "    True if the string is a palindrome, False otherwise.\n",
        "  \"\"\"\n",
        "\n",
        "  # Remove non-alphanumeric characters and convert to lowercase\n",
        "  cleaned_string = ''.join(char.lower() for char in string if char.isalnum())\n",
        "\n",
        "  # Compare the cleaned string with its reversed version\n",
        "  return cleaned_string == cleaned_string[::-1]\n",
        "\n",
        "# Example usage:\n",
        "string1 = \"racecar\"\n",
        "string2 = \"hello\"\n",
        "\n",
        "if is_palindrome(string1):\n",
        "  print(\"String1 is a palindrome.\")\n",
        "else:\n",
        "  print(\"String1 is not a palindrome.\")\n",
        "\n",
        "if is_palindrome(string2):\n",
        "  print(\"String2 is a palindrome.\")\n",
        "else:\n",
        "  print(\"String2 is not a palindrome.\")"
      ],
      "metadata": {
        "colab": {
          "base_uri": "https://localhost:8080/"
        },
        "id": "lbLqW_W-Ni0Y",
        "outputId": "207d1ded-7388-4a59-e351-f34c05e94262"
      },
      "execution_count": null,
      "outputs": [
        {
          "output_type": "stream",
          "name": "stdout",
          "text": [
            "String1 is a palindrome.\n",
            "String2 is not a palindrome.\n"
          ]
        }
      ]
    },
    {
      "cell_type": "markdown",
      "source": [
        "Q4 - Write a code to check if two given strings are anagrams of each other."
      ],
      "metadata": {
        "id": "VW4GJw7PNmvO"
      }
    },
    {
      "cell_type": "code",
      "source": [
        "def are_anagrams(string1, string2):\n",
        "  \"\"\"Checks if two given strings are anagrams of each other.\n",
        "\n",
        "  Args:\n",
        "    string1: The first string to be compared.\n",
        "    string2: The second string to be compared.\n",
        "\n",
        "  Returns:\n",
        "    True if the strings are anagrams, False otherwise.\n",
        "  \"\"\"\n",
        "\n",
        "  # Remove non-alphanumeric characters and convert to lowercase\n",
        "  cleaned_string1 = ''.join(char.lower() for char in string1 if char.isalnum())\n",
        "  cleaned_string2 = ''.join(char.lower() for char in string2 if char.isalnum())\n",
        "\n",
        "  # Check if the sorted strings are equal\n",
        "  return sorted(cleaned_string1) == sorted(cleaned_string2)\n",
        "\n",
        "# Example usage:\n",
        "string1 = \"anagram\"\n",
        "string2 = \"nagaram\"\n",
        "\n",
        "if are_anagrams(string1, string2):\n",
        "  print(\"The strings are anagrams.\")\n",
        "else:\n",
        "  print(\"The strings are not anagrams.\")"
      ],
      "metadata": {
        "colab": {
          "base_uri": "https://localhost:8080/"
        },
        "id": "Est4of-TNyI5",
        "outputId": "c4bbb134-9433-4493-db51-150c654da391"
      },
      "execution_count": null,
      "outputs": [
        {
          "output_type": "stream",
          "name": "stdout",
          "text": [
            "The strings are anagrams.\n"
          ]
        }
      ]
    },
    {
      "cell_type": "markdown",
      "source": [
        "Q5 - write a code to find all occurrences of a given substring within another string."
      ],
      "metadata": {
        "id": "TmmlvdahN5V4"
      }
    },
    {
      "cell_type": "code",
      "source": [
        "def find_substring_occurrences(string, substring):\n",
        "  \"\"\"Finds all occurrences of a given substring within another string.\n",
        "\n",
        "  Args:\n",
        "    string: The main string to search in.\n",
        "    substring: The substring to find.\n",
        "\n",
        "  Returns:\n",
        "    A list of indices where the substring occurs in the main string.\n",
        "  \"\"\"\n",
        "\n",
        "  indices = []\n",
        "  index = 0\n",
        "\n",
        "  while index < len(string):\n",
        "    index = string.find(substring, index)\n",
        "    if index == -1:\n",
        "      break\n",
        "    indices.append(index)\n",
        "    index += 1\n",
        "\n",
        "  return indices\n",
        "\n",
        "# Example usage:\n",
        "main_string = \"hello world, hello again!\"\n",
        "substring = \"hello\"\n",
        "\n",
        "occurrences = find_substring_occurrences(main_string, substring)\n",
        "print(occurrences)"
      ],
      "metadata": {
        "colab": {
          "base_uri": "https://localhost:8080/"
        },
        "id": "CVE0VW5eN_Hq",
        "outputId": "28116892-a74e-4703-8916-45398f61b548"
      },
      "execution_count": null,
      "outputs": [
        {
          "output_type": "stream",
          "name": "stdout",
          "text": [
            "[0, 13]\n"
          ]
        }
      ]
    },
    {
      "cell_type": "markdown",
      "source": [
        "Q6 - Write a code to perform basic string compression using the counts of repeated characters."
      ],
      "metadata": {
        "id": "a0JInG2H9cd5"
      }
    },
    {
      "cell_type": "code",
      "source": [
        "def compress_string(string):\n",
        "  \"\"\"Compresses a string by counting repeated characters.\n",
        "\n",
        "  Args:\n",
        "    string: The string to be compressed.\n",
        "\n",
        "  Returns:\n",
        "    The compressed string.\n",
        "  \"\"\"\n",
        "\n",
        "  compressed_string = \"\"\n",
        "  count = 1\n",
        "\n",
        "  for i in range(1, len(string)):\n",
        "    if string[i] == string[i-1]:\n",
        "      count += 1\n",
        "    else:\n",
        "      compressed_string += string[i-1] + str(count)\n",
        "      count = 1\n",
        "\n",
        "  compressed_string += string[-1] + str(count)\n",
        "\n",
        "  return compressed_string\n",
        "\n",
        "# Example usage:\n",
        "string = \"aabcccccaaa\"\n",
        "compressed_string = compress_string(string)\n",
        "print(compressed_string)"
      ],
      "metadata": {
        "colab": {
          "base_uri": "https://localhost:8080/"
        },
        "id": "p8kRYR6v9j13",
        "outputId": "4df16af4-588f-49b1-e32f-42e1f725bc36"
      },
      "execution_count": 1,
      "outputs": [
        {
          "output_type": "stream",
          "name": "stdout",
          "text": [
            "a2b1c5a3\n"
          ]
        }
      ]
    },
    {
      "cell_type": "markdown",
      "source": [
        "Q7 - Write a code to determine if a string has all unique characters."
      ],
      "metadata": {
        "id": "qAUYxEap91d5"
      }
    },
    {
      "cell_type": "code",
      "source": [
        "def has_unique_characters(string):\n",
        "  \"\"\"Determines if a string has all unique characters.\n",
        "\n",
        "  Args:\n",
        "    string: The string to be checked.\n",
        "\n",
        "  Returns:\n",
        "    True if the string has all unique characters, False otherwise.\n",
        "  \"\"\"\n",
        "\n",
        "  character_set = set()\n",
        "\n",
        "  for char in string:\n",
        "    if char in character_set:\n",
        "      return False\n",
        "    character_set.add(char)\n",
        "\n",
        "  return True\n",
        "\n",
        "# Example usage:\n",
        "string1 = \"abcde\"\n",
        "string2 = \"aabbcc\"\n",
        "\n",
        "print(has_unique_characters(string1))\n",
        "print(has_unique_characters(string2))"
      ],
      "metadata": {
        "colab": {
          "base_uri": "https://localhost:8080/"
        },
        "id": "tc8v4QfO97dq",
        "outputId": "dde907ae-5d3a-421b-fce0-4a7ee17c0152"
      },
      "execution_count": 2,
      "outputs": [
        {
          "output_type": "stream",
          "name": "stdout",
          "text": [
            "True\n",
            "False\n"
          ]
        }
      ]
    },
    {
      "cell_type": "markdown",
      "source": [
        "Q8 - Write a code convert a given string to uppercase or lowercase."
      ],
      "metadata": {
        "id": "ZU3X-t-G-GxF"
      }
    },
    {
      "cell_type": "code",
      "source": [
        "def convert_case(string, case):\n",
        "  \"\"\"Converts a given string to uppercase or lowercase.\n",
        "\n",
        "  Args:\n",
        "    string: The string to be converted.\n",
        "    case: A string specifying the desired case. Must be either \"uppercase\" or \"lowercase\".\n",
        "\n",
        "  Returns:\n",
        "    The converted string.\n",
        "  \"\"\"\n",
        "\n",
        "  if case == \"uppercase\":\n",
        "    return string.upper()\n",
        "  elif case == \"lowercase\":\n",
        "    return string.lower()\n",
        "  else:\n",
        "    raise ValueError(\"Invalid case specified. Must be 'uppercase' or 'lowercase'.\")\n",
        "\n",
        "# Example usage:\n",
        "string = \"Hello, World!\"\n",
        "\n",
        "uppercase_string = convert_case(string, \"uppercase\")\n",
        "print(uppercase_string)\n",
        "\n",
        "lowercase_string = convert_case(string, \"lowercase\")\n",
        "print(lowercase_string)"
      ],
      "metadata": {
        "colab": {
          "base_uri": "https://localhost:8080/"
        },
        "id": "6rSIri82-QLt",
        "outputId": "5885358c-0ecf-40ae-cbad-ff3712362040"
      },
      "execution_count": 3,
      "outputs": [
        {
          "output_type": "stream",
          "name": "stdout",
          "text": [
            "HELLO, WORLD!\n",
            "hello, world!\n"
          ]
        }
      ]
    },
    {
      "cell_type": "markdown",
      "source": [
        "Q9 - Write a code to count the number of words in a string."
      ],
      "metadata": {
        "id": "n1XjxD0Z-Xii"
      }
    },
    {
      "cell_type": "code",
      "source": [
        "def count_words(string):\n",
        "  \"\"\"Counts the number of words in a string.\n",
        "\n",
        "  Args:\n",
        "    string: The string to be counted.\n",
        "\n",
        "  Returns:\n",
        "    The number of words in the string.\n",
        "  \"\"\"\n",
        "\n",
        "  words = string.split()\n",
        "  return len(words)\n",
        "\n",
        "# Example usage:\n",
        "string = \"This is a sample string with multiple words.\"\n",
        "word_count = count_words(string)\n",
        "print(word_count)"
      ],
      "metadata": {
        "colab": {
          "base_uri": "https://localhost:8080/"
        },
        "id": "PE88GugX-hlh",
        "outputId": "50e198cb-b280-4b13-f03a-5ec2964c958b"
      },
      "execution_count": 4,
      "outputs": [
        {
          "output_type": "stream",
          "name": "stdout",
          "text": [
            "8\n"
          ]
        }
      ]
    },
    {
      "cell_type": "markdown",
      "source": [
        "Q10 - write a  code to concatenate two strings without using + operator."
      ],
      "metadata": {
        "id": "UpsGjI7m-xbZ"
      }
    },
    {
      "cell_type": "code",
      "source": [
        "def concatenate_strings(str1, str2):\n",
        "  \"\"\"Concatenates two strings without using the + operator.\n",
        "\n",
        "  Args:\n",
        "    str1: The first string.\n",
        "    str2: The second string.\n",
        "\n",
        "  Returns:\n",
        "    The concatenated string.\n",
        "  \"\"\"\n",
        "\n",
        "  result = []\n",
        "  for char in str1:\n",
        "    result.append(char)\n",
        "  for char in str2:\n",
        "    result.append(char)\n",
        "  return ''.join(result)\n",
        "\n",
        "# Example usage:\n",
        "string1 = \"Hello\"\n",
        "string2 = \"World\"\n",
        "concatenated_string = concatenate_strings(string1, string2)\n",
        "print(concatenated_string)"
      ],
      "metadata": {
        "colab": {
          "base_uri": "https://localhost:8080/"
        },
        "id": "D3d7Vh3O-3AW",
        "outputId": "dc10c971-83f9-4e7c-d5cf-ad84bcac258c"
      },
      "execution_count": 5,
      "outputs": [
        {
          "output_type": "stream",
          "name": "stdout",
          "text": [
            "HelloWorld\n"
          ]
        }
      ]
    },
    {
      "cell_type": "markdown",
      "source": [
        "Q11 - Write a code to remove all occurrences of a specific element from a list."
      ],
      "metadata": {
        "id": "vD9mLbsmCUdA"
      }
    },
    {
      "cell_type": "code",
      "source": [
        "#1. Using List Comprehension:\n",
        "\n",
        "def remove_element(lst, element):\n",
        "    return [item for item in lst if item != element]\n",
        "\n",
        "# Example usage:\n",
        "my_list = [1, 2, 3, 2, 4, 2]\n",
        "element_to_remove = 2\n",
        "new_list = remove_element(my_list, element_to_remove)\n",
        "print(new_list)  # Output: [1, 3, 4]\n",
        "\n",
        "\n",
        "#2. Using the filter() function:\n",
        "\n",
        "def remove_element(lst, element):\n",
        "    return list(filter(lambda x: x != element, lst))\n",
        "\n",
        "# Example usage:\n",
        "my_list = [1, 2, 3, 2, 4, 2]\n",
        "element_to_remove = 2\n",
        "new_list = remove_element(my_list, element_to_remove)\n",
        "print(new_list)  # Output: [1, 3, 4]\n",
        "\n",
        "\n",
        "#3. Using a while loop and remove() method:\n",
        "\n",
        "def remove_element(lst, element):\n",
        "    while element in lst:\n",
        "        lst.remove(element)\n",
        "    return lst\n",
        "\n",
        "# Example usage:\n",
        "my_list = [1, 2, 3, 2, 4, 2]\n",
        "element_to_remove = 2\n",
        "new_list = remove_element(my_list, element_to_remove)\n",
        "print(new_list)  # Output: [1, 3, 4]"
      ],
      "metadata": {
        "id": "ygcrBYgTCYiO"
      },
      "execution_count": null,
      "outputs": []
    },
    {
      "cell_type": "markdown",
      "source": [
        "Q12 - Implement a code to find the second largest number in a given list of integers."
      ],
      "metadata": {
        "id": "-n3eWoetC9Wi"
      }
    },
    {
      "cell_type": "code",
      "source": [
        "def find_second_largest(numbers):\n",
        "    \"\"\"Finds the second largest number in a list of integers.\n",
        "\n",
        "    Args:\n",
        "        numbers: A list of integers.\n",
        "\n",
        "    Returns:\n",
        "        The second largest number in the list, or None if the list has less than two elements.\n",
        "    \"\"\"\n",
        "    if len(numbers) < 2:\n",
        "        return None\n",
        "\n",
        "    # Initialize the largest and second largest\n",
        "    largest = second_largest = float('-inf')\n",
        "\n",
        "    for num in numbers:\n",
        "        if num > largest:\n",
        "            second_largest = largest\n",
        "            largest = num\n",
        "        elif num > second_largest and num != largest:\n",
        "            second_largest = num\n",
        "\n",
        "    return second_largest if second_largest != float('-inf') else None\n",
        "\n",
        "# Example usage:\n",
        "my_list = [3, 7, 2, 9, 5]\n",
        "second_largest = find_second_largest(my_list)\n",
        "print(second_largest)"
      ],
      "metadata": {
        "colab": {
          "base_uri": "https://localhost:8080/"
        },
        "id": "n6pmuOSkDFi3",
        "outputId": "822c01ef-a41a-4b0c-ec15-bd44e0d7316f"
      },
      "execution_count": 7,
      "outputs": [
        {
          "output_type": "stream",
          "name": "stdout",
          "text": [
            "7\n"
          ]
        }
      ]
    },
    {
      "cell_type": "markdown",
      "source": [
        "Q13 - Create a code to count the occurrences of each element in a list and return a dictionary with elements as keys and their counts as values."
      ],
      "metadata": {
        "id": "aln7XyazF3DX"
      }
    },
    {
      "cell_type": "code",
      "source": [
        "def count_occurrences(lst):\n",
        "  \"\"\"Counts the occurrences of each element in a list.\n",
        "\n",
        "  Args:\n",
        "    lst: The input list.\n",
        "\n",
        "  Returns:\n",
        "    A dictionary with elements as keys and their counts as values.\n",
        "  \"\"\"\n",
        "\n",
        "  count_dict = {}\n",
        "  for element in lst:\n",
        "    if element in count_dict:\n",
        "      count_dict[element] += 1\n",
        "    else:\n",
        "      count_dict[element] = 1\n",
        "  return count_dict\n",
        "\n",
        "# Example usage:\n",
        "my_list = [1, 2, 3, 2, 1, 4, 1]\n",
        "result = count_occurrences(my_list)\n",
        "print(result)"
      ],
      "metadata": {
        "colab": {
          "base_uri": "https://localhost:8080/"
        },
        "id": "UTDeowM0F7r4",
        "outputId": "deb4dacc-f2c0-4b30-ba2d-a3cd8a6cd83b"
      },
      "execution_count": 8,
      "outputs": [
        {
          "output_type": "stream",
          "name": "stdout",
          "text": [
            "{1: 3, 2: 2, 3: 1, 4: 1}\n"
          ]
        }
      ]
    },
    {
      "cell_type": "markdown",
      "source": [
        "Q14 - Write a code to reverse a list in-place without using any built-in reverse functions."
      ],
      "metadata": {
        "id": "ozTgEEWZGzQy"
      }
    },
    {
      "cell_type": "code",
      "source": [
        "def reverse_list_in_place(lst):\n",
        "  \"\"\"Reverses a list in-place without using built-in reverse functions.\n",
        "\n",
        "  Args:\n",
        "    lst: The input list.\n",
        "  \"\"\"\n",
        "\n",
        "  left = 0\n",
        "  right = len(lst) - 1\n",
        "\n",
        "  while left < right:\n",
        "    lst[left], lst[right] = lst[right], lst[left]\n",
        "    left += 1\n",
        "    right -= 1\n",
        "\n",
        "# Example usage:\n",
        "my_list = [1, 2, 3, 4, 5]\n",
        "reverse_list_in_place(my_list)\n",
        "print(my_list)"
      ],
      "metadata": {
        "colab": {
          "base_uri": "https://localhost:8080/"
        },
        "id": "X8gutob_G7rA",
        "outputId": "8bdf99a6-1590-400b-b01c-9d2412e50c29"
      },
      "execution_count": 9,
      "outputs": [
        {
          "output_type": "stream",
          "name": "stdout",
          "text": [
            "[5, 4, 3, 2, 1]\n"
          ]
        }
      ]
    },
    {
      "cell_type": "markdown",
      "source": [
        "Q15 - Implement a code to find and remove duplicates from a list while preserving the original order of elements."
      ],
      "metadata": {
        "id": "YCkdV-9eHCCi"
      }
    },
    {
      "cell_type": "code",
      "source": [
        "def remove_duplicates(lst):\n",
        "  \"\"\"Removes duplicates from a list while preserving the original order.\n",
        "\n",
        "  Args:\n",
        "    lst: The input list.\n",
        "\n",
        "  Returns:\n",
        "    A new list without duplicates.\n",
        "  \"\"\"\n",
        "\n",
        "  seen = set()\n",
        "  result = []\n",
        "  for element in lst:\n",
        "    if element not in seen:\n",
        "      seen.add(element)\n",
        "      result.append(element)\n",
        "  return result\n",
        "\n",
        "# Example usage:\n",
        "my_list = [1, 2, 3, 2, 1, 4, 1]\n",
        "result = remove_duplicates(my_list)\n",
        "print(result)"
      ],
      "metadata": {
        "colab": {
          "base_uri": "https://localhost:8080/"
        },
        "id": "GI7SXzJgHJFN",
        "outputId": "ad4d9427-0ec1-4dbd-8d43-a663402b9864"
      },
      "execution_count": 10,
      "outputs": [
        {
          "output_type": "stream",
          "name": "stdout",
          "text": [
            "[1, 2, 3, 4]\n"
          ]
        }
      ]
    },
    {
      "cell_type": "markdown",
      "source": [
        "Q16 - Create a code to check if a given list is sorted(either in ascending or descending order) or not."
      ],
      "metadata": {
        "id": "2C4Jl2t9HPHl"
      }
    },
    {
      "cell_type": "code",
      "source": [
        "def is_sorted(lst):\n",
        "  \"\"\"Checks if a given list is sorted.\n",
        "\n",
        "  Args:\n",
        "    lst: The input list.\n",
        "\n",
        "  Returns:\n",
        "    True if the list is sorted, False otherwise.\n",
        "  \"\"\"\n",
        "\n",
        "  if len(lst) <= 1:\n",
        "    return True\n",
        "\n",
        "  is_ascending = lst[0] < lst[1]\n",
        "  for i in range(1, len(lst) - 1):\n",
        "    if is_ascending and lst[i] > lst[i + 1]:\n",
        "      return False\n",
        "    elif not is_ascending and lst[i] < lst[i + 1]:\n",
        "      return False\n",
        "\n",
        "  return True\n",
        "\n",
        "# Example usage:\n",
        "my_list1 = [1, 2, 3, 4, 5]\n",
        "my_list2 = [5, 4, 3, 2, 1]\n",
        "my_list3 = [1, 3, 2, 4, 5]\n",
        "\n",
        "print(is_sorted(my_list1))\n",
        "print(is_sorted(my_list2))\n",
        "print(is_sorted(my_list3))"
      ],
      "metadata": {
        "colab": {
          "base_uri": "https://localhost:8080/"
        },
        "id": "7IDb-7e3HVn_",
        "outputId": "60eaca99-3c4d-478d-cd30-b57e14106f1c"
      },
      "execution_count": 11,
      "outputs": [
        {
          "output_type": "stream",
          "name": "stdout",
          "text": [
            "True\n",
            "True\n",
            "False\n"
          ]
        }
      ]
    },
    {
      "cell_type": "markdown",
      "source": [
        "Q17 - Write a code to merge two sorted lists into a single sorted list."
      ],
      "metadata": {
        "id": "8bl_qc8EHiB_"
      }
    },
    {
      "cell_type": "code",
      "source": [
        "def merge_sorted_lists(list1, list2):\n",
        "  \"\"\"Merges two sorted lists into a single sorted list.\n",
        "\n",
        "  Args:\n",
        "    list1: The first sorted list.\n",
        "    list2: The second sorted list.\n",
        "\n",
        "  Returns:\n",
        "    A new sorted list containing the elements from both lists.\n",
        "  \"\"\"\n",
        "\n",
        "  merged_list = []\n",
        "  i = 0\n",
        "  j = 0\n",
        "\n",
        "  while i < len(list1) and j < len(list2):\n",
        "    if list1[i] <= list2[j]:\n",
        "      merged_list.append(list1[i])\n",
        "      i += 1\n",
        "    else:\n",
        "      merged_list.append(list2[j])\n",
        "      j += 1\n",
        "\n",
        "  merged_list += list1[i:]\n",
        "  merged_list += list2[j:]\n",
        "\n",
        "  return merged_list\n",
        "\n",
        "# Example usage:\n",
        "list1 = [1, 3, 5]\n",
        "list2 = [2, 4, 6]\n",
        "merged_list = merge_sorted_lists(list1, list2)\n",
        "print(merged_list)"
      ],
      "metadata": {
        "colab": {
          "base_uri": "https://localhost:8080/"
        },
        "id": "htLZOEFNHmKz",
        "outputId": "5e509efa-8dc1-4aef-d818-6d006d32a48f"
      },
      "execution_count": 12,
      "outputs": [
        {
          "output_type": "stream",
          "name": "stdout",
          "text": [
            "[1, 2, 3, 4, 5, 6]\n"
          ]
        }
      ]
    },
    {
      "cell_type": "markdown",
      "source": [
        "Q18 - Implement a code to find the intersection of two given lists."
      ],
      "metadata": {
        "id": "GK8gqVV2Hs5c"
      }
    },
    {
      "cell_type": "code",
      "source": [
        "def find_intersection(list1, list2):\n",
        "  \"\"\"Finds the intersection of two given lists.\n",
        "\n",
        "  Args:\n",
        "    list1: The first list.\n",
        "    list2: The second list.\n",
        "\n",
        "  Returns:\n",
        "    A new list containing the elements that are present in both lists.\n",
        "  \"\"\"\n",
        "\n",
        "  intersection = []\n",
        "  set1 = set(list1)\n",
        "  set2 = set(list2)\n",
        "\n",
        "  for element in set1:\n",
        "    if element in set2:\n",
        "      intersection.append(element)\n",
        "\n",
        "  return intersection\n",
        "\n",
        "# Example usage:\n",
        "list1 = [1, 2, 3, 4, 5]\n",
        "list2 = [3, 4, 5, 6, 7]\n",
        "intersection = find_intersection(list1, list2)\n",
        "print(intersection)"
      ],
      "metadata": {
        "colab": {
          "base_uri": "https://localhost:8080/"
        },
        "id": "P73A0qrzH1Z9",
        "outputId": "444a4407-49ec-4ea4-b89b-bc815cc457eb"
      },
      "execution_count": 13,
      "outputs": [
        {
          "output_type": "stream",
          "name": "stdout",
          "text": [
            "[3, 4, 5]\n"
          ]
        }
      ]
    },
    {
      "cell_type": "markdown",
      "source": [
        "Q19 - Create a code to find the union of two lists without duplicates."
      ],
      "metadata": {
        "id": "VinW0ZP5H653"
      }
    },
    {
      "cell_type": "code",
      "source": [
        "def find_union(list1, list2):\n",
        "  \"\"\"Finds the union of two lists without duplicates.\n",
        "\n",
        "  Args:\n",
        "    list1: The first list.\n",
        "    list2: The second list.\n",
        "\n",
        "  Returns:\n",
        "    A new list containing the unique elements from both lists.\n",
        "  \"\"\"\n",
        "\n",
        "  union_set = set(list1)\n",
        "  union_set.update(list2)\n",
        "  return list(union_set)\n",
        "\n",
        "# Example usage:\n",
        "list1 = [1, 2, 3, 4, 5]\n",
        "list2 = [3, 4, 5, 6, 7]\n",
        "union = find_union(list1, list2)\n",
        "print(union)"
      ],
      "metadata": {
        "colab": {
          "base_uri": "https://localhost:8080/"
        },
        "id": "PFexciTxIBiO",
        "outputId": "a18084d3-ecd6-48d8-9699-d53378333c23"
      },
      "execution_count": 14,
      "outputs": [
        {
          "output_type": "stream",
          "name": "stdout",
          "text": [
            "[1, 2, 3, 4, 5, 6, 7]\n"
          ]
        }
      ]
    },
    {
      "cell_type": "markdown",
      "source": [
        "Q20 - Write a code to shuffle a given list randomly without using any built-in shuffle functions."
      ],
      "metadata": {
        "id": "8tB4EqhAIY3H"
      }
    },
    {
      "cell_type": "code",
      "source": [
        "import random\n",
        "\n",
        "def shuffle_list(lst):\n",
        "  \"\"\"Shuffles a list randomly without using built-in shuffle functions.\n",
        "\n",
        "  Args:\n",
        "    lst: The input list.\n",
        "  \"\"\"\n",
        "\n",
        "  for i in range(len(lst)):\n",
        "    j = random.randint(i, len(lst) - 1)\n",
        "    lst[i], lst[j] = lst[j], lst[i]\n",
        "\n",
        "# Example usage:\n",
        "my_list = [1, 2, 3, 4, 5]\n",
        "shuffle_list(my_list)\n",
        "print(my_list)"
      ],
      "metadata": {
        "colab": {
          "base_uri": "https://localhost:8080/"
        },
        "id": "_ROcDwjvIc7G",
        "outputId": "2563ea7b-21dc-4bfa-de37-712d13df2edc"
      },
      "execution_count": 16,
      "outputs": [
        {
          "output_type": "stream",
          "name": "stdout",
          "text": [
            "[2, 1, 5, 4, 3]\n"
          ]
        }
      ]
    },
    {
      "cell_type": "markdown",
      "source": [
        "Q21 - Write a code that takes two tuples as input and returns a new tuple containing elements that are common to both input tuples."
      ],
      "metadata": {
        "id": "Y3gfqAWjJwJE"
      }
    },
    {
      "cell_type": "code",
      "source": [
        "def find_common_elements(tuple1, tuple2):\n",
        "  \"\"\"Finds common elements in two tuples.\n",
        "\n",
        "  Args:\n",
        "    tuple1: The first tuple.\n",
        "    tuple2: The second tuple.\n",
        "\n",
        "  Returns:\n",
        "    A new tuple containing elements that are common to both input tuples.\n",
        "  \"\"\"\n",
        "\n",
        "  common_elements = tuple(set(tuple1).intersection(set(tuple2)))\n",
        "  return common_elements\n",
        "\n",
        "# Example usage:\n",
        "tuple1 = (1, 2, 3, 4, 5)\n",
        "tuple2 = (3, 4, 5, 6, 7)\n",
        "result = find_common_elements(tuple1, tuple2)\n",
        "print(result)"
      ],
      "metadata": {
        "colab": {
          "base_uri": "https://localhost:8080/"
        },
        "id": "3t0gG0SIJ3um",
        "outputId": "cc8c12e1-9c22-4177-d78d-489d68ebc8d4"
      },
      "execution_count": 17,
      "outputs": [
        {
          "output_type": "stream",
          "name": "stdout",
          "text": [
            "(3, 4, 5)\n"
          ]
        }
      ]
    },
    {
      "cell_type": "markdown",
      "source": [
        "Q22 - Create a code that prompts the user to enter two sets of integers separated by commas. Than, print the intersection of these two sets."
      ],
      "metadata": {
        "id": "yehzZ_vwJ-9w"
      }
    },
    {
      "cell_type": "code",
      "source": [
        "def find_intersection(set1, set2):\n",
        "  \"\"\"Finds the intersection of two sets.\n",
        "\n",
        "  Args:\n",
        "    set1: The first set.\n",
        "    set2: The second set.\n",
        "\n",
        "  Returns:\n",
        "    The intersection of the two sets.\n",
        "  \"\"\"\n",
        "\n",
        "  intersection = set1.intersection(set2)\n",
        "  return intersection\n",
        "\n",
        "def get_integer_set_from_input(prompt):\n",
        "  \"\"\"Prompts the user to enter a set of integers separated by commas and returns it.\n",
        "\n",
        "  Args:\n",
        "    prompt: The prompt to display to the user.\n",
        "\n",
        "  Returns:\n",
        "    A set of integers.\n",
        "  \"\"\"\n",
        "\n",
        "  while True:\n",
        "    try:\n",
        "      input_str = input(prompt)\n",
        "      integer_list = [int(x) for x in input_str.split(\",\")]\n",
        "      return set(integer_list)\n",
        "    except ValueError:\n",
        "      print(\"Invalid input. Please enter integers separated by commas.\")\n",
        "\n",
        "# Get input from the user\n",
        "set1 = get_integer_set_from_input(\"Enter the first set of integers (separated by commas): \")\n",
        "set2 = get_integer_set_from_input(\"Enter the second set of integers (separated by commas): \")\n",
        "\n",
        "# Find the intersection\n",
        "intersection = find_intersection(set1, set2)\n",
        "\n",
        "# Print the result\n",
        "print(\"Intersection of the two sets:\", intersection)"
      ],
      "metadata": {
        "colab": {
          "base_uri": "https://localhost:8080/"
        },
        "id": "J5nq8mXjKGTb",
        "outputId": "a76ec190-e53d-48e1-dd3a-23418677b2d0"
      },
      "execution_count": 23,
      "outputs": [
        {
          "output_type": "stream",
          "name": "stdout",
          "text": [
            "Enter the first set of integers (separated by commas): [1,2,23,32,4]\n",
            "Invalid input. Please enter integers separated by commas.\n",
            "Enter the first set of integers (separated by commas): 2,145,65,44,31\n",
            "Enter the second set of integers (separated by commas): 145,31,88,76,5\n",
            "Intersection of the two sets: {145, 31}\n"
          ]
        }
      ]
    },
    {
      "cell_type": "markdown",
      "source": [
        "Q23 - Write a code to concatenate two tuples. The function should take two tuples as input and return a new tuple containing elements from both input tuples."
      ],
      "metadata": {
        "id": "OTD7nK9wKcya"
      }
    },
    {
      "cell_type": "code",
      "source": [
        "def concatenate_tuples(tuple1, tuple2):\n",
        "  \"\"\"Concatenates two tuples.\n",
        "\n",
        "  Args:\n",
        "    tuple1: The first tuple.\n",
        "    tuple2: The second tuple.\n",
        "\n",
        "  Returns:\n",
        "    A new tuple containing elements from both input tuples.\n",
        "  \"\"\"\n",
        "\n",
        "  return tuple1 + tuple2\n",
        "\n",
        "# Example usage:\n",
        "tuple1 = (1, 2, 3)\n",
        "tuple2 = (4, 5, 6)\n",
        "result = concatenate_tuples(tuple1, tuple2)\n",
        "print(result)"
      ],
      "metadata": {
        "colab": {
          "base_uri": "https://localhost:8080/"
        },
        "id": "BaLxIh2CKlR3",
        "outputId": "da148793-4b6b-4fba-de76-964aeaad072a"
      },
      "execution_count": 22,
      "outputs": [
        {
          "output_type": "stream",
          "name": "stdout",
          "text": [
            "(1, 2, 3, 4, 5, 6)\n"
          ]
        }
      ]
    },
    {
      "cell_type": "markdown",
      "source": [
        "Q24 - Develop a code that prompts the user to input two sets of strings. then, print the elements that are present in the first set but not in the second set."
      ],
      "metadata": {
        "id": "4sb-Fb0XU75O"
      }
    },
    {
      "cell_type": "code",
      "source": [
        "def find_unique_elements(set1, set2):\n",
        "  \"\"\"Finds elements that are in set1 but not in set2.\n",
        "\n",
        "  Args:\n",
        "    set1: The first set.\n",
        "    set2: The second set.\n",
        "\n",
        "  Returns:\n",
        "    A set containing elements that are in set1 but not in set2.\n",
        "  \"\"\"\n",
        "\n",
        "  return set1 - set2\n",
        "\n",
        "if __name__ == '__main__':\n",
        "  set1_input = input(\"Enter elements for the first set (comma-separated): \")\n",
        "  set1 = set(set1_input.split(\",\"))\n",
        "\n",
        "  set2_input = input(\"Enter elements for the second set (comma-separated): \")\n",
        "  set2 = set(set2_input.split(\",\"))\n",
        "\n",
        "  unique_elements = find_unique_elements(set1, set2)\n",
        "  print(\"Elements present in the first set but not in the second set:\", unique_elements)"
      ],
      "metadata": {
        "colab": {
          "base_uri": "https://localhost:8080/"
        },
        "id": "t9NG_RHEWd73",
        "outputId": "a2ec98ab-cd94-40e2-b68e-4d99bf9abd6c"
      },
      "execution_count": 24,
      "outputs": [
        {
          "output_type": "stream",
          "name": "stdout",
          "text": [
            "Enter elements for the first set (comma-separated): we,er,mn\n",
            "Enter elements for the second set (comma-separated): er,df,cv\n",
            "Elements present in the first set but not in the second set: {'mn', 'we'}\n"
          ]
        }
      ]
    },
    {
      "cell_type": "markdown",
      "source": [
        "Q25 - Create a code that takes a tuple and two integers as input. the function should return a new tuple containing elements from the original tuple within the specified range of indices."
      ],
      "metadata": {
        "id": "qnaTGHleWrld"
      }
    },
    {
      "cell_type": "code",
      "source": [
        "def slice_tuple(tuple_input, start_index, end_index):\n",
        "  \"\"\"Slices a tuple within a specified range of indices.\n",
        "\n",
        "  Args:\n",
        "    tuple_input: The input tuple.\n",
        "    start_index: The starting index (inclusive).\n",
        "    end_index: The ending index (exclusive).\n",
        "\n",
        "  Returns:\n",
        "    A new tuple containing elements from the original tuple within the specified range.\n",
        "  \"\"\"\n",
        "\n",
        "  return tuple_input[start_index:end_index]\n",
        "\n",
        "if __name__ == '__main__':\n",
        "  tuple_input = tuple(input(\"Enter elements for the tuple (comma-separated): \").split(\",\"))\n",
        "  start_index = int(input(\"Enter the starting index: \"))\n",
        "  end_index = int(input(\"Enter the ending index: \"))\n",
        "\n",
        "  sliced_tuple = slice_tuple(tuple_input, start_index, end_index)\n",
        "  print(\"Sliced tuple:\", sliced_tuple)"
      ],
      "metadata": {
        "colab": {
          "base_uri": "https://localhost:8080/"
        },
        "id": "P6qwaUxIWxz1",
        "outputId": "3c3d8c40-d0fc-48a7-bc5a-c0fe7bb278d4"
      },
      "execution_count": 25,
      "outputs": [
        {
          "output_type": "stream",
          "name": "stdout",
          "text": [
            "Enter elements for the tuple (comma-separated): er,rf,tg,fg\n",
            "Enter the starting index: 2\n",
            "Enter the ending index: 1\n",
            "Sliced tuple: ()\n"
          ]
        }
      ]
    },
    {
      "cell_type": "markdown",
      "source": [
        "Q26 - Write a code that prompts the user to input two sets of characters. then, print the union of these two sets."
      ],
      "metadata": {
        "id": "bfiO9C8zW8Z_"
      }
    },
    {
      "cell_type": "code",
      "source": [
        "def find_union(set1, set2):\n",
        "  \"\"\"Finds the union of two sets.\n",
        "\n",
        "  Args:\n",
        "    set1: The first set.\n",
        "    set2: The second set.\n",
        "\n",
        "  Returns:\n",
        "    A set containing the union of elements from both sets.\n",
        "  \"\"\"\n",
        "\n",
        "  return set1 | set2\n",
        "\n",
        "if __name__ == '__main__':\n",
        "  set1_input = input(\"Enter elements for the first set (comma-separated): \")\n",
        "  set1 = set(set1_input)\n",
        "\n",
        "  set2_input = input(\"Enter elements for the second set (comma-separated): \")\n",
        "  set2 = set(set2_input)\n",
        "\n",
        "  union_set = find_union(set1, set2)\n",
        "  print(\"Union of the two sets:\", union_set)"
      ],
      "metadata": {
        "colab": {
          "base_uri": "https://localhost:8080/"
        },
        "id": "J-9GYL_wXDll",
        "outputId": "e83e2e01-3e23-4af4-bc07-49aa6d39cfdd"
      },
      "execution_count": 26,
      "outputs": [
        {
          "output_type": "stream",
          "name": "stdout",
          "text": [
            "Enter elements for the first set (comma-separated): we,er,rt\n",
            "Enter elements for the second set (comma-separated): er,yt,gh\n",
            "Union of the two sets: {'e', 'y', ',', 'r', 'h', 't', 'w', 'g'}\n"
          ]
        }
      ]
    },
    {
      "cell_type": "markdown",
      "source": [
        "Q27 - Develop a code that takes a tuple of integers as input. the function should return the maximum and minimum values from the tuple using tuple unpacking."
      ],
      "metadata": {
        "id": "u9Ej50fwYZoU"
      }
    },
    {
      "cell_type": "code",
      "source": [
        "def find_max_min(tuple_input):\n",
        "  \"\"\"Finds the maximum and minimum values in a tuple using tuple unpacking.\n",
        "\n",
        "  Args:\n",
        "    tuple_input: The input tuple.\n",
        "\n",
        "  Returns:\n",
        "    A tuple containing the maximum and minimum values.\n",
        "  \"\"\"\n",
        "\n",
        "  max_value, min_value = tuple_input[0], tuple_input[0]\n",
        "  for element in tuple_input:\n",
        "    max_value = max(max_value, element)\n",
        "    min_value = min(min_value, element)\n",
        "  return max_value, min_value\n",
        "\n",
        "if __name__ == '__main__':\n",
        "  tuple_input = tuple(map(int, input(\"Enter elements for the tuple (comma-separated): \").split(\",\")))\n",
        "  max_value, min_value = find_max_min(tuple_input)\n",
        "  print(\"Maximum value:\", max_value)\n",
        "  print(\"Minimum value:\", min_value)"
      ],
      "metadata": {
        "colab": {
          "base_uri": "https://localhost:8080/"
        },
        "id": "Q6GHj8guYwjZ",
        "outputId": "f5132984-6520-41b5-de04-8e45abe854e6"
      },
      "execution_count": 27,
      "outputs": [
        {
          "output_type": "stream",
          "name": "stdout",
          "text": [
            "Enter elements for the tuple (comma-separated): 23,43,23,45\n",
            "Maximum value: 45\n",
            "Minimum value: 23\n"
          ]
        }
      ]
    },
    {
      "cell_type": "markdown",
      "source": [
        "Q28 - Create a code that defines two sets of integers. Then, print the union, intersection, and difference of these two sets."
      ],
      "metadata": {
        "id": "9j16xpedZD6W"
      }
    },
    {
      "cell_type": "code",
      "source": [
        "def set_operations(set1, set2):\n",
        "  \"\"\"Performs union, intersection, and difference operations on two sets.\n",
        "\n",
        "  Args:\n",
        "    set1: The first set of integers.\n",
        "    set2: The second set of integers.\n",
        "\n",
        "  Returns:\n",
        "    A tuple containing the union, intersection, and difference of the two sets.\n",
        "  \"\"\"\n",
        "\n",
        "  union_set = set1.union(set2)\n",
        "  intersection_set = set1.intersection(set2)\n",
        "  difference_set = set1.difference(set2)\n",
        "\n",
        "  return union_set, intersection_set, difference_set\n",
        "\n",
        "# Example usage:\n",
        "set_a = {1, 2, 3, 4, 5}\n",
        "set_b = {3, 4, 5, 6, 7}\n",
        "\n",
        "union, intersection, difference = set_operations(set_a, set_b)\n",
        "\n",
        "print(\"Union:\", union)\n",
        "print(\"Intersection:\", intersection)\n",
        "print(\"Difference (set_a - set_b):\", difference)"
      ],
      "metadata": {
        "colab": {
          "base_uri": "https://localhost:8080/"
        },
        "id": "i0PfyZTgbQCR",
        "outputId": "68a6ef96-4321-4c12-d991-ec109a9e1e2a"
      },
      "execution_count": 28,
      "outputs": [
        {
          "output_type": "stream",
          "name": "stdout",
          "text": [
            "Union: {1, 2, 3, 4, 5, 6, 7}\n",
            "Intersection: {3, 4, 5}\n",
            "Difference (set_a - set_b): {1, 2}\n"
          ]
        }
      ]
    },
    {
      "cell_type": "markdown",
      "source": [
        "Q29 - Write a code that takes a tuple and an element as input. The function should return the count of occurrences of the given element in the tuple."
      ],
      "metadata": {
        "id": "4xnF1gbubVvb"
      }
    },
    {
      "cell_type": "code",
      "source": [
        "def count_occurrences(tuple_input, element):\n",
        "  \"\"\"Counts the occurrences of an element in a tuple.\n",
        "\n",
        "  Args:\n",
        "    tuple_input: The input tuple.\n",
        "    element: The element to count.\n",
        "\n",
        "  Returns:\n",
        "    The number of occurrences of the element in the tuple.\n",
        "  \"\"\"\n",
        "\n",
        "  count = 0\n",
        "  for item in tuple_input:\n",
        "    if item == element:\n",
        "      count += 1\n",
        "  return count\n",
        "\n",
        "# Example usage:\n",
        "my_tuple = (1, 2, 3, 2, 4, 2, 5)\n",
        "element_to_count = 2\n",
        "\n",
        "result = count_occurrences(my_tuple, element_to_count)\n",
        "print(\"The element\", element_to_count, \"occurs\", result, \"times in the tuple.\")"
      ],
      "metadata": {
        "colab": {
          "base_uri": "https://localhost:8080/"
        },
        "id": "ypCwd_0BbnH1",
        "outputId": "be1101f6-ad45-442c-e433-15055a573c56"
      },
      "execution_count": 29,
      "outputs": [
        {
          "output_type": "stream",
          "name": "stdout",
          "text": [
            "The element 2 occurs 3 times in the tuple.\n"
          ]
        }
      ]
    },
    {
      "cell_type": "markdown",
      "source": [
        "Q30 - Develop a code that prompts the user to input two sets of strings. Then, print the symmetric difference of these two sets."
      ],
      "metadata": {
        "id": "d6p8ErnubwiM"
      }
    },
    {
      "cell_type": "code",
      "source": [
        "def symmetric_difference(set1, set2):\n",
        "  \"\"\"Calculates the symmetric difference of two sets.\n",
        "\n",
        "  Args:\n",
        "    set1: The first set of strings.\n",
        "    set2: The second set of strings.\n",
        "\n",
        "  Returns:\n",
        "    The symmetric difference of the two sets.\n",
        "  \"\"\"\n",
        "\n",
        "  return set1.symmetric_difference(set2)\n",
        "\n",
        "# Example usage:\n",
        "set_a = set(input(\"Enter the first set of strings (comma-separated): \").split(\",\"))\n",
        "set_b = set(input(\"Enter the second set of strings (comma-separated): \").split(\",\"))\n",
        "\n",
        "result = symmetric_difference(set_a, set_b)\n",
        "print(\"Symmetric difference:\", result)"
      ],
      "metadata": {
        "colab": {
          "base_uri": "https://localhost:8080/"
        },
        "id": "WcRLHj5Eb6Tu",
        "outputId": "7033d6e5-0fcf-45e8-8433-51a8a252d75d"
      },
      "execution_count": 30,
      "outputs": [
        {
          "output_type": "stream",
          "name": "stdout",
          "text": [
            "Enter the first set of strings (comma-separated): wert,rt,th,fg\n",
            "Enter the second set of strings (comma-separated): er,ty,rt,wey\n",
            "Symmetric difference: {'ty', 'wert', 'fg', 'er', 'wey', 'th'}\n"
          ]
        }
      ]
    },
    {
      "cell_type": "markdown",
      "source": [
        "Q31 - Write a code that takes a list of words as input and returns a dictionary where the keys are unique words and the values are the frequencies of those words in the input list."
      ],
      "metadata": {
        "id": "aSMdtuKUcGJE"
      }
    },
    {
      "cell_type": "code",
      "source": [
        "def word_frequency(words):\n",
        "  \"\"\"Counts the frequency of each word in a list.\n",
        "\n",
        "  Args:\n",
        "    words: A list of strings.\n",
        "\n",
        "  Returns:\n",
        "    A dictionary where the keys are unique words and the values are their frequencies.\n",
        "  \"\"\"\n",
        "\n",
        "  word_count = {}\n",
        "  for word in words:\n",
        "    word_count[word] = word_count.get(word, 0) + 1\n",
        "  return word_count\n",
        "\n",
        "# Example usage:\n",
        "words = [\"apple\", \"banana\", \"apple\", \"orange\", \"banana\", \"apple\"]\n",
        "result = word_frequency(words)\n",
        "print(result)"
      ],
      "metadata": {
        "colab": {
          "base_uri": "https://localhost:8080/"
        },
        "id": "3SUKb-RTd0az",
        "outputId": "a94cc1e8-d8c5-4b31-9b08-5f657f4933b3"
      },
      "execution_count": 31,
      "outputs": [
        {
          "output_type": "stream",
          "name": "stdout",
          "text": [
            "{'apple': 3, 'banana': 2, 'orange': 1}\n"
          ]
        }
      ]
    },
    {
      "cell_type": "markdown",
      "source": [
        "Q32 - Write a code that takes two dictionaries as input and merges them into a single dictionary. If there are common keys, the values should be added together."
      ],
      "metadata": {
        "id": "5DCjnMSnd6CK"
      }
    },
    {
      "cell_type": "code",
      "source": [
        "def merge_dicts(dict1, dict2):\n",
        "  \"\"\"Merges two dictionaries, adding values for common keys.\n",
        "\n",
        "  Args:\n",
        "    dict1: The first dictionary.\n",
        "    dict2: The second dictionary.\n",
        "\n",
        "  Returns:\n",
        "    A new dictionary containing the merged values.\n",
        "  \"\"\"\n",
        "\n",
        "  merged_dict = dict1.copy()\n",
        "  for key, value in dict2.items():\n",
        "    if key in merged_dict:\n",
        "      merged_dict[key] += value\n",
        "    else:\n",
        "      merged_dict[key] = value\n",
        "  return merged_dict\n",
        "\n",
        "# Example usage:\n",
        "dict1 = {\"a\": 1, \"b\": 2, \"c\": 3}\n",
        "dict2 = {\"b\": 4, \"d\": 5}\n",
        "result = merge_dicts(dict1, dict2)\n",
        "print(result)"
      ],
      "metadata": {
        "colab": {
          "base_uri": "https://localhost:8080/"
        },
        "id": "FVooIFxGeB9c",
        "outputId": "4e9d27d3-4530-43e6-8a59-2d8682c9340e"
      },
      "execution_count": 32,
      "outputs": [
        {
          "output_type": "stream",
          "name": "stdout",
          "text": [
            "{'a': 1, 'b': 6, 'c': 3, 'd': 5}\n"
          ]
        }
      ]
    },
    {
      "cell_type": "markdown",
      "source": [
        "Q33 - Write a code to access a value in a nested dictionary. The function should take the dictionary and a list of keys as input, and return the corresponding value. If any of the keys do not exist in the dictionary, the function should return none."
      ],
      "metadata": {
        "id": "qirvnGAveIHi"
      }
    },
    {
      "cell_type": "code",
      "source": [
        "def get_nested_value(dictionary, keys):\n",
        "  \"\"\"\n",
        "  Accesses a value in a nested dictionary using a list of keys.\n",
        "\n",
        "  Args:\n",
        "    dictionary: The nested dictionary to search.\n",
        "    keys: A list of keys to follow to reach the desired value.\n",
        "\n",
        "  Returns:\n",
        "    The corresponding value if all keys exist, otherwise None.\n",
        "  \"\"\"\n",
        "\n",
        "  for key in keys:\n",
        "    if not isinstance(dictionary, dict) or key not in dictionary:\n",
        "      return None\n",
        "    dictionary = dictionary[key]\n",
        "  return dictionary"
      ],
      "metadata": {
        "id": "86Ug9H8-hljr"
      },
      "execution_count": 33,
      "outputs": []
    },
    {
      "cell_type": "markdown",
      "source": [
        "Q34 - write a code that takes a dictionary as input and returns a sorted version of it based on the values. You can choose whether to sort in ascending or descending order."
      ],
      "metadata": {
        "id": "RsYbZ65Khrh7"
      }
    },
    {
      "cell_type": "code",
      "source": [
        "def sort_dictionary_by_values(dictionary, ascending=True):\n",
        "  \"\"\"\n",
        "  Sorts a dictionary based on its values.\n",
        "\n",
        "  Args:\n",
        "    dictionary: The dictionary to sort.\n",
        "    ascending: Whether to sort in ascending (True) or descending (False) order.\n",
        "\n",
        "  Returns:\n",
        "    A new dictionary with the same keys but sorted values.\n",
        "  \"\"\"\n",
        "\n",
        "  sorted_items = sorted(dictionary.items(), key=lambda item: item[1], reverse=not ascending)\n",
        "  return dict(sorted_items)"
      ],
      "metadata": {
        "id": "mQs7pSQOhziC"
      },
      "execution_count": 34,
      "outputs": []
    },
    {
      "cell_type": "markdown",
      "source": [
        "Q35 - Write a code that inverts a dictionary, swapping keys and values. Ensure that the inverted dictionary correctly handles cases where multiple keys have the same value by sorting the keys as a list in the inverted dictionary."
      ],
      "metadata": {
        "id": "lgf2JUzNh7mF"
      }
    },
    {
      "cell_type": "code",
      "source": [
        "def invert_dictionary(dictionary):\n",
        "  \"\"\"\n",
        "  Inverts a dictionary, swapping keys and values.\n",
        "\n",
        "  Args:\n",
        "    dictionary: The dictionary to invert.\n",
        "\n",
        "  Returns:\n",
        "    The inverted dictionary.\n",
        "  \"\"\"\n",
        "\n",
        "  inverted_dict = {}\n",
        "  for key, value in dictionary.items():\n",
        "    if value not in inverted_dict:\n",
        "      inverted_dict[value] = [key]\n",
        "    else:\n",
        "      inverted_dict[value].append(key)\n",
        "  return {value: sorted(keys) for value, keys in inverted_dict.items()}"
      ],
      "metadata": {
        "id": "I9p_WuZRiCLb"
      },
      "execution_count": 35,
      "outputs": []
    }
  ]
}